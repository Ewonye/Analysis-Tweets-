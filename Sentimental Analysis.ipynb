{
 "cells": [
  {
   "cell_type": "code",
   "execution_count": 14,
   "metadata": {
    "ExecuteTime": {
     "end_time": "2021-05-04T17:44:30.292317Z",
     "start_time": "2021-05-04T17:44:30.280375Z"
    }
   },
   "outputs": [],
   "source": [
    "%matplotlib inline\n",
    "import pandas as pd\n",
    "import numpy as np\n",
    "import matplotlib.pyplot as plt"
   ]
  },
  {
   "cell_type": "code",
   "execution_count": 6,
   "metadata": {
    "ExecuteTime": {
     "end_time": "2021-05-04T17:36:51.047316Z",
     "start_time": "2021-05-04T17:36:50.762523Z"
    }
   },
   "outputs": [],
   "source": [
    "df=pd.read_csv('processed_batch.csv')"
   ]
  },
  {
   "cell_type": "code",
   "execution_count": 7,
   "metadata": {
    "ExecuteTime": {
     "end_time": "2021-05-04T17:36:57.211352Z",
     "start_time": "2021-05-04T17:36:56.961816Z"
    }
   },
   "outputs": [
    {
     "data": {
      "text/html": [
       "<div>\n",
       "<style scoped>\n",
       "    .dataframe tbody tr th:only-of-type {\n",
       "        vertical-align: middle;\n",
       "    }\n",
       "\n",
       "    .dataframe tbody tr th {\n",
       "        vertical-align: top;\n",
       "    }\n",
       "\n",
       "    .dataframe thead th {\n",
       "        text-align: right;\n",
       "    }\n",
       "</style>\n",
       "<table border=\"1\" class=\"dataframe\">\n",
       "  <thead>\n",
       "    <tr style=\"text-align: right;\">\n",
       "      <th></th>\n",
       "      <th>BILL GATES</th>\n",
       "      <th>Classification</th>\n",
       "      <th>Confidence</th>\n",
       "    </tr>\n",
       "  </thead>\n",
       "  <tbody>\n",
       "    <tr>\n",
       "      <th>0</th>\n",
       "      <td>Is Bill Gates now just Bill Gate?</td>\n",
       "      <td>Neutral</td>\n",
       "      <td>0.906</td>\n",
       "    </tr>\n",
       "    <tr>\n",
       "      <th>1</th>\n",
       "      <td>Aliko Dangote is single Jeff Bezos is Single n...</td>\n",
       "      <td>Neutral</td>\n",
       "      <td>0.719</td>\n",
       "    </tr>\n",
       "    <tr>\n",
       "      <th>2</th>\n",
       "      <td>we need access to Bill Gate�s priv asap</td>\n",
       "      <td>Neutral</td>\n",
       "      <td>0.787</td>\n",
       "    </tr>\n",
       "    <tr>\n",
       "      <th>3</th>\n",
       "      <td>Me sliding into Bill Gate�s DMs now that he�s ...</td>\n",
       "      <td>Positive</td>\n",
       "      <td>0.510</td>\n",
       "    </tr>\n",
       "    <tr>\n",
       "      <th>4</th>\n",
       "      <td>Fear Woman, now that bill gate is no longer th...</td>\n",
       "      <td>Negative</td>\n",
       "      <td>0.786</td>\n",
       "    </tr>\n",
       "  </tbody>\n",
       "</table>\n",
       "</div>"
      ],
      "text/plain": [
       "                                          BILL GATES Classification  \\\n",
       "0                  Is Bill Gates now just Bill Gate?        Neutral   \n",
       "1  Aliko Dangote is single Jeff Bezos is Single n...        Neutral   \n",
       "2            we need access to Bill Gate�s priv asap        Neutral   \n",
       "3  Me sliding into Bill Gate�s DMs now that he�s ...       Positive   \n",
       "4  Fear Woman, now that bill gate is no longer th...       Negative   \n",
       "\n",
       "   Confidence  \n",
       "0       0.906  \n",
       "1       0.719  \n",
       "2       0.787  \n",
       "3       0.510  \n",
       "4       0.786  "
      ]
     },
     "execution_count": 7,
     "metadata": {},
     "output_type": "execute_result"
    }
   ],
   "source": [
    "df.head()"
   ]
  },
  {
   "cell_type": "code",
   "execution_count": 20,
   "metadata": {
    "ExecuteTime": {
     "end_time": "2021-05-04T17:48:29.150190Z",
     "start_time": "2021-05-04T17:48:29.139093Z"
    }
   },
   "outputs": [],
   "source": [
    "Bill=df[df.Confidence>0.8]"
   ]
  },
  {
   "cell_type": "code",
   "execution_count": 24,
   "metadata": {
    "ExecuteTime": {
     "end_time": "2021-05-04T17:50:22.689784Z",
     "start_time": "2021-05-04T17:50:22.267504Z"
    }
   },
   "outputs": [
    {
     "data": {
      "text/plain": [
       "Text(0.5,1,'Plot ascertaining the level of tweets on Bill Gates divorce')"
      ]
     },
     "execution_count": 24,
     "metadata": {},
     "output_type": "execute_result"
    },
    {
     "data": {
      "image/png": "[encoded data removed]",
      "text/plain": [
       "<Figure size 432x288 with 1 Axes>"
      ]
     },
     "metadata": {
      "needs_background": "light"
     },
     "output_type": "display_data"
    }
   ],
   "source": [
    "plt.hist(Bill['Classification'])\n",
    "plt.ylabel('Confidence level')\n",
    "plt.xlabel('Classes')\n",
    "plt.title('Plot ascertaining the level of tweets on Bill Gates divorce')"
   ]
  },
  {
   "cell_type": "code",
   "execution_count": null,
   "metadata": {},
   "outputs": [],
   "source": []
  }
 ],
 "metadata": {
  "kernelspec": {
   "display_name": "Python 3",
   "language": "python",
   "name": "python3"
  },
  "language_info": {
   "codemirror_mode": {
    "name": "ipython",
    "version": 3
   },
   "file_extension": ".py",
   "mimetype": "text/x-python",
   "name": "python",
   "nbconvert_exporter": "python",
   "pygments_lexer": "ipython3",
   "version": "3.7.0"
  },
  "toc": {
   "base_numbering": 1,
   "nav_menu": {},
   "number_sections": true,
   "sideBar": true,
   "skip_h1_title": false,
   "title_cell": "Table of Contents",
   "title_sidebar": "Contents",
   "toc_cell": false,
   "toc_position": {},
   "toc_section_display": true,
   "toc_window_display": false
  }
 },
 "nbformat": 4,
 "nbformat_minor": 2
}
